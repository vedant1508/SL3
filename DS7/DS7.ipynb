{
 "cells": [
  {
   "cell_type": "code",
   "execution_count": 1,
   "id": "524abfb8",
   "metadata": {},
   "outputs": [],
   "source": [
    "import nltk\n",
    "import string\n",
    "from nltk.corpus import stopwords\n",
    "from nltk.tokenize import word_tokenize\n",
    "from nltk import pos_tag\n",
    "from nltk.stem import PorterStemmer,WordNetLemmatizer\n",
    "from sklearn.feature_extraction.text import TfidfVectorizer"
   ]
  },
  {
   "cell_type": "code",
   "execution_count": 2,
   "id": "4e60f2d4",
   "metadata": {},
   "outputs": [
    {
     "name": "stderr",
     "output_type": "stream",
     "text": [
      "[nltk_data] Downloading package punkt to\n",
      "[nltk_data]     C:\\Users\\dell\\AppData\\Roaming\\nltk_data...\n",
      "[nltk_data]   Package punkt is already up-to-date!\n",
      "[nltk_data] Downloading package stopwords to\n",
      "[nltk_data]     C:\\Users\\dell\\AppData\\Roaming\\nltk_data...\n",
      "[nltk_data]   Package stopwords is already up-to-date!\n",
      "[nltk_data] Error loading average_perceptron_tagger: Package\n",
      "[nltk_data]     'average_perceptron_tagger' not found in index\n",
      "[nltk_data] Downloading package wordnet to\n",
      "[nltk_data]     C:\\Users\\dell\\AppData\\Roaming\\nltk_data...\n",
      "[nltk_data]   Package wordnet is already up-to-date!\n"
     ]
    },
    {
     "data": {
      "text/plain": [
       "True"
      ]
     },
     "execution_count": 2,
     "metadata": {},
     "output_type": "execute_result"
    }
   ],
   "source": [
    "nltk.download('punkt')\n",
    "nltk.download('stopwords')\n",
    "nltk.download('average_perceptron_tagger')\n",
    "nltk.download('wordnet')"
   ]
  },
  {
   "cell_type": "code",
   "execution_count": 3,
   "id": "c23987e0",
   "metadata": {},
   "outputs": [
    {
     "name": "stdout",
     "output_type": "stream",
     "text": [
      "Tokenization ['Text', 'analytics', 'is', 'the', 'process', 'of', 'converting', 'unstructured', 'text', 'data', 'into', 'meaningful', 'and', 'actionable', 'information', '.']\n"
     ]
    }
   ],
   "source": [
    "sample_document=\"Text analytics is the process of converting unstructured text data into meaningful and actionable information.\"\n",
    "\n",
    "tokens= word_tokenize(sample_document)\n",
    "print(\"Tokenization\",tokens)"
   ]
  },
  {
   "cell_type": "code",
   "execution_count": 6,
   "id": "32929533",
   "metadata": {},
   "outputs": [
    {
     "name": "stdout",
     "output_type": "stream",
     "text": [
      "POS Tagging: [('Text', 'NN'), ('analytics', 'NNS'), ('is', 'VBZ'), ('the', 'DT'), ('process', 'NN'), ('of', 'IN'), ('converting', 'VBG'), ('unstructured', 'JJ'), ('text', 'NN'), ('data', 'NNS'), ('into', 'IN'), ('meaningful', 'JJ'), ('and', 'CC'), ('actionable', 'JJ'), ('information', 'NN'), ('.', '.')]\n"
     ]
    }
   ],
   "source": [
    "pos_tags = pos_tag(tokens)\n",
    "print('POS Tagging:',pos_tags)"
   ]
  },
  {
   "cell_type": "code",
   "execution_count": 7,
   "id": "84eaffc2",
   "metadata": {},
   "outputs": [
    {
     "name": "stdout",
     "output_type": "stream",
     "text": [
      "Stop Words:  ['Text', 'analytics', 'process', 'converting', 'unstructured', 'text', 'data', 'meaningful', 'actionable', 'information', '.']\n"
     ]
    }
   ],
   "source": [
    "stop_words=set(stopwords.words('english'))\n",
    "filtered_tokens= [word for word in tokens if word.lower() not in stop_words]\n",
    "print(\"Stop Words: \",filtered_tokens)"
   ]
  },
  {
   "cell_type": "code",
   "execution_count": 9,
   "id": "ca200d97",
   "metadata": {},
   "outputs": [
    {
     "name": "stdout",
     "output_type": "stream",
     "text": [
      "Stemming: ['text', 'analyt', 'process', 'convert', 'unstructur', 'text', 'data', 'meaning', 'action', 'inform', '.']\n"
     ]
    }
   ],
   "source": [
    "stemmer=PorterStemmer()\n",
    "stemmed_tokens= [stemmer.stem(word) for word in filtered_tokens]\n",
    "print(\"Stemming:\",stemmed_tokens)"
   ]
  },
  {
   "cell_type": "code",
   "execution_count": 10,
   "id": "80260b56",
   "metadata": {},
   "outputs": [
    {
     "name": "stdout",
     "output_type": "stream",
     "text": [
      "Lemmatization ['Text', 'analytics', 'process', 'converting', 'unstructured', 'text', 'data', 'meaningful', 'actionable', 'information', '.']\n"
     ]
    }
   ],
   "source": [
    "lemmatizer = WordNetLemmatizer()\n",
    "lemmatized_tokens = [lemmatizer.lemmatize(word) for word in filtered_tokens]\n",
    "print(\"Lemmatization\",lemmatized_tokens)"
   ]
  },
  {
   "cell_type": "code",
   "execution_count": 11,
   "id": "9667ace2",
   "metadata": {},
   "outputs": [
    {
     "name": "stdout",
     "output_type": "stream",
     "text": [
      "TF-IDF Representation\n",
      "  (0, 5)\t0.24253562503633297\n",
      "  (0, 0)\t0.24253562503633297\n",
      "  (0, 2)\t0.24253562503633297\n",
      "  (0, 8)\t0.24253562503633297\n",
      "  (0, 6)\t0.24253562503633297\n",
      "  (0, 4)\t0.24253562503633297\n",
      "  (0, 13)\t0.24253562503633297\n",
      "  (0, 3)\t0.24253562503633297\n",
      "  (0, 9)\t0.24253562503633297\n",
      "  (0, 10)\t0.24253562503633297\n",
      "  (0, 12)\t0.24253562503633297\n",
      "  (0, 7)\t0.24253562503633297\n",
      "  (0, 1)\t0.24253562503633297\n",
      "  (0, 11)\t0.48507125007266594\n"
     ]
    }
   ],
   "source": [
    "tfidf_vectorizer = TfidfVectorizer()\n",
    "tfidf_representation = tfidf_vectorizer.fit_transform([sample_document])\n",
    "print('TF-IDF Representation')\n",
    "print(tfidf_representation)"
   ]
  },
  {
   "cell_type": "code",
   "execution_count": null,
   "id": "3226c6ac",
   "metadata": {},
   "outputs": [],
   "source": []
  }
 ],
 "metadata": {
  "kernelspec": {
   "display_name": "Python 3 (ipykernel)",
   "language": "python",
   "name": "python3"
  },
  "language_info": {
   "codemirror_mode": {
    "name": "ipython",
    "version": 3
   },
   "file_extension": ".py",
   "mimetype": "text/x-python",
   "name": "python",
   "nbconvert_exporter": "python",
   "pygments_lexer": "ipython3",
   "version": "3.10.9"
  }
 },
 "nbformat": 4,
 "nbformat_minor": 5
}
