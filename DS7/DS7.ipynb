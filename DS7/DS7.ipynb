{
 "cells": [
  {
   "cell_type": "code",
   "execution_count": 1,
   "id": "ed9021f0",
   "metadata": {},
   "outputs": [],
   "source": [
    "import nltk\n",
    "import math"
   ]
  },
  {
   "cell_type": "code",
   "execution_count": 11,
   "id": "feb83b65",
   "metadata": {},
   "outputs": [
    {
     "name": "stderr",
     "output_type": "stream",
     "text": [
      "[nltk_data] Downloading package punkt to\n",
      "[nltk_data]     C:\\Users\\dell\\AppData\\Roaming\\nltk_data...\n",
      "[nltk_data]   Package punkt is already up-to-date!\n",
      "[nltk_data] Downloading package stopwords to\n",
      "[nltk_data]     C:\\Users\\dell\\AppData\\Roaming\\nltk_data...\n",
      "[nltk_data]   Package stopwords is already up-to-date!\n",
      "[nltk_data] Downloading package wordnet to\n",
      "[nltk_data]     C:\\Users\\dell\\AppData\\Roaming\\nltk_data...\n",
      "[nltk_data]   Package wordnet is already up-to-date!\n",
      "[nltk_data] Downloading package averaged_perceptron_tagger to\n",
      "[nltk_data]     C:\\Users\\dell\\AppData\\Roaming\\nltk_data...\n",
      "[nltk_data]   Package averaged_perceptron_tagger is already up-to-\n",
      "[nltk_data]       date!\n",
      "[nltk_data] Downloading package omw-1.4 to\n",
      "[nltk_data]     C:\\Users\\dell\\AppData\\Roaming\\nltk_data...\n"
     ]
    },
    {
     "data": {
      "text/plain": [
       "True"
      ]
     },
     "execution_count": 11,
     "metadata": {},
     "output_type": "execute_result"
    }
   ],
   "source": [
    "nltk.download('punkt')\n",
    "nltk.download('stopwords')\n",
    "nltk.download('wordnet')\n",
    "nltk.download('averaged_perceptron_tagger')\n",
    "nltk.download('omw-1.4')"
   ]
  },
  {
   "cell_type": "code",
   "execution_count": 3,
   "id": "7d5de7d7",
   "metadata": {},
   "outputs": [],
   "source": [
    "text = \"Natural language processing (NLP) is a subfield of artificial intelligence that focuses on the interaction between computers and humans through natural language. It involves the development of algorithms and models to understand, analyze, and generate human language.\""
   ]
  },
  {
   "cell_type": "code",
   "execution_count": 4,
   "id": "c766d40f",
   "metadata": {},
   "outputs": [
    {
     "name": "stdout",
     "output_type": "stream",
     "text": [
      "['Natural language processing (NLP) is a subfield of artificial intelligence that focuses on the interaction between computers and humans through natural language.', 'It involves the development of algorithms and models to understand, analyze, and generate human language.']\n"
     ]
    }
   ],
   "source": [
    "#sentence tokenization\n",
    "from nltk.tokenize import sent_tokenize\n",
    "sentencetokenize=sent_tokenize(text)\n",
    "print(sentencetokenize)"
   ]
  },
  {
   "cell_type": "code",
   "execution_count": 5,
   "id": "b9c89c63",
   "metadata": {},
   "outputs": [
    {
     "name": "stdout",
     "output_type": "stream",
     "text": [
      "['natural', 'language', 'processing', '(', 'nlp', ')', 'is', 'a', 'subfield', 'of', 'artificial', 'intelligence', 'that', 'focuses', 'on', 'the', 'interaction', 'between', 'computers', 'and', 'humans', 'through', 'natural', 'language', '.', 'it', 'involves', 'the', 'development', 'of', 'algorithms', 'and', 'models', 'to', 'understand', ',', 'analyze', ',', 'and', 'generate', 'human', 'language', '.']\n"
     ]
    }
   ],
   "source": [
    "#word tokenization\n",
    "from nltk.tokenize import word_tokenize\n",
    "wordtoken = word_tokenize(text.lower())\n",
    "print(wordtoken)"
   ]
  },
  {
   "cell_type": "code",
   "execution_count": 7,
   "id": "e82743c8",
   "metadata": {},
   "outputs": [
    {
     "name": "stdout",
     "output_type": "stream",
     "text": [
      "['natural', 'language', 'processing', 'nlp', 'subfield', 'artificial', 'intelligence', 'focuses', 'interaction', 'computers', 'humans', 'natural', 'language', 'involves', 'development', 'algorithms', 'models', 'understand', 'analyze', 'generate', 'human', 'language']\n"
     ]
    }
   ],
   "source": [
    "#stop word removal\n",
    "from nltk.corpus import stopwords\n",
    "stop_words=set(stopwords.words('English'))\n",
    "symbols=['(',')',',','.']\n",
    "filteredtext=[]\n",
    "for i in wordtoken:\n",
    "    if i not in stop_words and i not in symbols:\n",
    "        filteredtext.append(i)\n",
    "print(filteredtext)"
   ]
  },
  {
   "cell_type": "code",
   "execution_count": 8,
   "id": "bb705de6",
   "metadata": {},
   "outputs": [
    {
     "name": "stdout",
     "output_type": "stream",
     "text": [
      "['natur', 'languag', 'process', 'nlp', 'subfield', 'artifici', 'intellig', 'focus', 'interact', 'comput', 'human', 'natur', 'languag', 'involv', 'develop', 'algorithm', 'model', 'understand', 'analyz', 'gener', 'human', 'languag']\n"
     ]
    }
   ],
   "source": [
    "#stemming\n",
    "from nltk.stem import PorterStemmer\n",
    "ps=PorterStemmer()\n",
    "stemmed=[]\n",
    "for i in filteredtext:\n",
    "    stemmed.append(ps.stem(i))\n",
    "print(stemmed)"
   ]
  },
  {
   "cell_type": "code",
   "execution_count": 12,
   "id": "ed141ea3",
   "metadata": {},
   "outputs": [
    {
     "name": "stdout",
     "output_type": "stream",
     "text": [
      "['natural', 'language', 'processing', 'nlp', 'subfield', 'artificial', 'intelligence', 'focus', 'interaction', 'computer', 'human', 'natural', 'language', 'involves', 'development', 'algorithm', 'model', 'understand', 'analyze', 'generate', 'human', 'language']\n"
     ]
    }
   ],
   "source": [
    "#Lemmatiztion\n",
    "\n",
    "from nltk.stem import WordNetLemmatizer\n",
    "wnl=WordNetLemmatizer()\n",
    "lemmatized=[]\n",
    "for i in filteredtext:\n",
    "    lemmatized.append(wnl.lemmatize(i))\n",
    "print(lemmatized)"
   ]
  },
  {
   "cell_type": "code",
   "execution_count": 13,
   "id": "b5d40c08",
   "metadata": {},
   "outputs": [
    {
     "name": "stdout",
     "output_type": "stream",
     "text": [
      "natural: JJ\n",
      "language: NN\n",
      "processing: NN\n",
      "(: (\n",
      "nlp: JJ\n",
      "): )\n",
      "is: VBZ\n",
      "a: DT\n",
      "subfield: NN\n",
      "of: IN\n",
      "artificial: JJ\n",
      "intelligence: NN\n",
      "that: WDT\n",
      "focuses: VBZ\n",
      "on: IN\n",
      "the: DT\n",
      "interaction: NN\n",
      "between: IN\n",
      "computers: NNS\n",
      "and: CC\n",
      "humans: NNS\n",
      "through: IN\n",
      "natural: JJ\n",
      "language: NN\n",
      ".: .\n",
      "it: PRP\n",
      "involves: VBZ\n",
      "the: DT\n",
      "development: NN\n",
      "of: IN\n",
      "algorithms: NN\n",
      "and: CC\n",
      "models: NNS\n",
      "to: TO\n",
      "understand: VB\n",
      ",: ,\n",
      "analyze: NN\n",
      ",: ,\n",
      "and: CC\n",
      "generate: VB\n",
      "human: JJ\n",
      "language: NN\n",
      ".: .\n"
     ]
    }
   ],
   "source": [
    "#POS Tagging\n",
    "pos_tags=[]\n",
    "pos_tags.extend(nltk.pos_tag(wordtoken))\n",
    "for word, pos_tag in pos_tags:\n",
    "    print(f\"{word}: {pos_tag}\")"
   ]
  },
  {
   "cell_type": "code",
   "execution_count": 15,
   "id": "09778a8b",
   "metadata": {},
   "outputs": [
    {
     "data": {
      "text/plain": [
       "{'natural': 0.09090909090909091,\n",
       " 'language': 0.13636363636363635,\n",
       " 'processing': 0.045454545454545456,\n",
       " 'nlp': 0.045454545454545456,\n",
       " 'subfield': 0.045454545454545456,\n",
       " 'artificial': 0.045454545454545456,\n",
       " 'intelligence': 0.045454545454545456,\n",
       " 'focuses': 0.045454545454545456,\n",
       " 'interaction': 0.045454545454545456,\n",
       " 'computers': 0.045454545454545456,\n",
       " 'humans': 0.045454545454545456,\n",
       " 'involves': 0.045454545454545456,\n",
       " 'development': 0.045454545454545456,\n",
       " 'algorithms': 0.045454545454545456,\n",
       " 'models': 0.045454545454545456,\n",
       " 'understand': 0.045454545454545456,\n",
       " 'analyze': 0.045454545454545456,\n",
       " 'generate': 0.045454545454545456,\n",
       " 'human': 0.045454545454545456}"
      ]
     },
     "execution_count": 15,
     "metadata": {},
     "output_type": "execute_result"
    }
   ],
   "source": [
    "#TF-IDF\n",
    "Tf={word: filteredtext.count(word)/len(filteredtext) for word in filteredtext}\n",
    "Tf"
   ]
  },
  {
   "cell_type": "code",
   "execution_count": 17,
   "id": "7b3b69c2",
   "metadata": {},
   "outputs": [
    {
     "data": {
      "text/plain": [
       "{'natural': 0.4054651081081644,\n",
       " 'language': 0.28768207245178085,\n",
       " 'processing': 0.6931471805599453,\n",
       " 'nlp': 0.6931471805599453,\n",
       " 'subfield': 0.6931471805599453,\n",
       " 'artificial': 0.6931471805599453,\n",
       " 'intelligence': 0.6931471805599453,\n",
       " 'focuses': 0.6931471805599453,\n",
       " 'interaction': 0.6931471805599453,\n",
       " 'computers': 0.6931471805599453,\n",
       " 'humans': 0.6931471805599453,\n",
       " 'involves': 0.6931471805599453,\n",
       " 'development': 0.6931471805599453,\n",
       " 'algorithms': 0.6931471805599453,\n",
       " 'models': 0.6931471805599453,\n",
       " 'understand': 0.6931471805599453,\n",
       " 'analyze': 0.6931471805599453,\n",
       " 'generate': 0.6931471805599453,\n",
       " 'human': 0.6931471805599453}"
      ]
     },
     "execution_count": 17,
     "metadata": {},
     "output_type": "execute_result"
    }
   ],
   "source": [
    "noofdocuments=1\n",
    "IDF={word:math.log(noofdocuments/filteredtext.count(word)+1) for word in filteredtext}\n",
    "IDF"
   ]
  },
  {
   "cell_type": "code",
   "execution_count": 18,
   "id": "c5760c1d",
   "metadata": {},
   "outputs": [
    {
     "data": {
      "text/plain": [
       "{'natural': 0.036860464373469494,\n",
       " 'language': 0.03922937351615193,\n",
       " 'processing': 0.03150669002545206,\n",
       " 'nlp': 0.03150669002545206,\n",
       " 'subfield': 0.03150669002545206,\n",
       " 'artificial': 0.03150669002545206,\n",
       " 'intelligence': 0.03150669002545206,\n",
       " 'focuses': 0.03150669002545206,\n",
       " 'interaction': 0.03150669002545206,\n",
       " 'computers': 0.03150669002545206,\n",
       " 'humans': 0.03150669002545206,\n",
       " 'involves': 0.03150669002545206,\n",
       " 'development': 0.03150669002545206,\n",
       " 'algorithms': 0.03150669002545206,\n",
       " 'models': 0.03150669002545206,\n",
       " 'understand': 0.03150669002545206,\n",
       " 'analyze': 0.03150669002545206,\n",
       " 'generate': 0.03150669002545206,\n",
       " 'human': 0.03150669002545206}"
      ]
     },
     "execution_count": 18,
     "metadata": {},
     "output_type": "execute_result"
    }
   ],
   "source": [
    "tfidf = {word:Tf[word]*IDF[word] for word in filteredtext}\n",
    "tfidf"
   ]
  },
  {
   "cell_type": "code",
   "execution_count": null,
   "id": "4f10b884",
   "metadata": {},
   "outputs": [],
   "source": []
  }
 ],
 "metadata": {
  "kernelspec": {
   "display_name": "Python 3 (ipykernel)",
   "language": "python",
   "name": "python3"
  },
  "language_info": {
   "codemirror_mode": {
    "name": "ipython",
    "version": 3
   },
   "file_extension": ".py",
   "mimetype": "text/x-python",
   "name": "python",
   "nbconvert_exporter": "python",
   "pygments_lexer": "ipython3",
   "version": "3.10.9"
  }
 },
 "nbformat": 4,
 "nbformat_minor": 5
}
